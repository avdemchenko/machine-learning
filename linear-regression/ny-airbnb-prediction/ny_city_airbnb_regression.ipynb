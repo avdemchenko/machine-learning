{
  "nbformat": 4,
  "nbformat_minor": 0,
  "metadata": {
    "colab": {
      "provenance": []
    },
    "kernelspec": {
      "name": "python3",
      "display_name": "Python 3"
    },
    "language_info": {
      "name": "python"
    }
  },
  "cells": [
    {
      "cell_type": "code",
      "execution_count": 16,
      "metadata": {
        "id": "FDXWeZxvIRqC"
      },
      "outputs": [],
      "source": [
        "import pandas as pd\n",
        "import numpy as np\n",
        "import matplotlib.pyplot as plt"
      ]
    },
    {
      "cell_type": "code",
      "source": [
        "df = pd.read_csv('AB_NYC_2019.csv')"
      ],
      "metadata": {
        "id": "SEkCxup2IX3_"
      },
      "execution_count": 17,
      "outputs": []
    },
    {
      "cell_type": "code",
      "source": [
        "print(df.head())"
      ],
      "metadata": {
        "colab": {
          "base_uri": "https://localhost:8080/"
        },
        "id": "tQ3GiqkYIcjP",
        "outputId": "5a0a9617-fad0-44d1-fd2d-47d3931dd4e7"
      },
      "execution_count": 18,
      "outputs": [
        {
          "output_type": "stream",
          "name": "stdout",
          "text": [
            "     id                                              name  host_id  \\\n",
            "0  2539                Clean & quiet apt home by the park     2787   \n",
            "1  2595                             Skylit Midtown Castle     2845   \n",
            "2  3647               THE VILLAGE OF HARLEM....NEW YORK !     4632   \n",
            "3  3831                   Cozy Entire Floor of Brownstone     4869   \n",
            "4  5022  Entire Apt: Spacious Studio/Loft by central park     7192   \n",
            "\n",
            "     host_name neighbourhood_group neighbourhood  latitude  longitude  \\\n",
            "0         John            Brooklyn    Kensington  40.64749  -73.97237   \n",
            "1     Jennifer           Manhattan       Midtown  40.75362  -73.98377   \n",
            "2    Elisabeth           Manhattan        Harlem  40.80902  -73.94190   \n",
            "3  LisaRoxanne            Brooklyn  Clinton Hill  40.68514  -73.95976   \n",
            "4        Laura           Manhattan   East Harlem  40.79851  -73.94399   \n",
            "\n",
            "         room_type  price  minimum_nights  number_of_reviews last_review  \\\n",
            "0     Private room    149               1                  9  2018-10-19   \n",
            "1  Entire home/apt    225               1                 45  2019-05-21   \n",
            "2     Private room    150               3                  0         NaN   \n",
            "3  Entire home/apt     89               1                270  2019-07-05   \n",
            "4  Entire home/apt     80              10                  9  2018-11-19   \n",
            "\n",
            "   reviews_per_month  calculated_host_listings_count  availability_365  \n",
            "0               0.21                               6               365  \n",
            "1               0.38                               2               355  \n",
            "2                NaN                               1               365  \n",
            "3               4.64                               1               194  \n",
            "4               0.10                               1                 0  \n"
          ]
        }
      ]
    },
    {
      "cell_type": "code",
      "source": [
        "print(df.tail())"
      ],
      "metadata": {
        "colab": {
          "base_uri": "https://localhost:8080/"
        },
        "id": "Y7-wDfVeIfwx",
        "outputId": "112e3092-338a-4644-9874-5c744e29b4a0"
      },
      "execution_count": 19,
      "outputs": [
        {
          "output_type": "stream",
          "name": "stdout",
          "text": [
            "             id                                               name   host_id  \\\n",
            "48890  36484665    Charming one bedroom - newly renovated rowhouse   8232441   \n",
            "48891  36485057      Affordable room in Bushwick/East Williamsburg   6570630   \n",
            "48892  36485431            Sunny Studio at Historical Neighborhood  23492952   \n",
            "48893  36485609               43rd St. Time Square-cozy single bed  30985759   \n",
            "48894  36487245  Trendy duplex in the very heart of Hell's Kitchen  68119814   \n",
            "\n",
            "           host_name neighbourhood_group       neighbourhood  latitude  \\\n",
            "48890        Sabrina            Brooklyn  Bedford-Stuyvesant  40.67853   \n",
            "48891        Marisol            Brooklyn            Bushwick  40.70184   \n",
            "48892  Ilgar & Aysel           Manhattan              Harlem  40.81475   \n",
            "48893            Taz           Manhattan      Hell's Kitchen  40.75751   \n",
            "48894     Christophe           Manhattan      Hell's Kitchen  40.76404   \n",
            "\n",
            "       longitude        room_type  price  minimum_nights  number_of_reviews  \\\n",
            "48890  -73.94995     Private room     70               2                  0   \n",
            "48891  -73.93317     Private room     40               4                  0   \n",
            "48892  -73.94867  Entire home/apt    115              10                  0   \n",
            "48893  -73.99112      Shared room     55               1                  0   \n",
            "48894  -73.98933     Private room     90               7                  0   \n",
            "\n",
            "      last_review  reviews_per_month  calculated_host_listings_count  \\\n",
            "48890         NaN                NaN                               2   \n",
            "48891         NaN                NaN                               2   \n",
            "48892         NaN                NaN                               1   \n",
            "48893         NaN                NaN                               6   \n",
            "48894         NaN                NaN                               1   \n",
            "\n",
            "       availability_365  \n",
            "48890                 9  \n",
            "48891                36  \n",
            "48892                27  \n",
            "48893                 2  \n",
            "48894                23  \n"
          ]
        }
      ]
    },
    {
      "cell_type": "code",
      "source": [
        "print(df.info())"
      ],
      "metadata": {
        "colab": {
          "base_uri": "https://localhost:8080/"
        },
        "id": "7lTLHMnuIiqY",
        "outputId": "fc6d1dec-11f8-4597-e4fa-14f35076470b"
      },
      "execution_count": 20,
      "outputs": [
        {
          "output_type": "stream",
          "name": "stdout",
          "text": [
            "<class 'pandas.core.frame.DataFrame'>\n",
            "RangeIndex: 48895 entries, 0 to 48894\n",
            "Data columns (total 16 columns):\n",
            " #   Column                          Non-Null Count  Dtype  \n",
            "---  ------                          --------------  -----  \n",
            " 0   id                              48895 non-null  int64  \n",
            " 1   name                            48879 non-null  object \n",
            " 2   host_id                         48895 non-null  int64  \n",
            " 3   host_name                       48874 non-null  object \n",
            " 4   neighbourhood_group             48895 non-null  object \n",
            " 5   neighbourhood                   48895 non-null  object \n",
            " 6   latitude                        48895 non-null  float64\n",
            " 7   longitude                       48895 non-null  float64\n",
            " 8   room_type                       48895 non-null  object \n",
            " 9   price                           48895 non-null  int64  \n",
            " 10  minimum_nights                  48895 non-null  int64  \n",
            " 11  number_of_reviews               48895 non-null  int64  \n",
            " 12  last_review                     38843 non-null  object \n",
            " 13  reviews_per_month               38843 non-null  float64\n",
            " 14  calculated_host_listings_count  48895 non-null  int64  \n",
            " 15  availability_365                48895 non-null  int64  \n",
            "dtypes: float64(3), int64(7), object(6)\n",
            "memory usage: 6.0+ MB\n",
            "None\n"
          ]
        }
      ]
    },
    {
      "cell_type": "code",
      "source": [
        "print(df.describe())"
      ],
      "metadata": {
        "colab": {
          "base_uri": "https://localhost:8080/"
        },
        "id": "MkY1XUbWIoW2",
        "outputId": "4e5b91d1-a403-42e3-c3a7-930af466cbae"
      },
      "execution_count": 21,
      "outputs": [
        {
          "output_type": "stream",
          "name": "stdout",
          "text": [
            "                 id       host_id      latitude     longitude         price  \\\n",
            "count  4.889500e+04  4.889500e+04  48895.000000  48895.000000  48895.000000   \n",
            "mean   1.901714e+07  6.762001e+07     40.728949    -73.952170    152.720687   \n",
            "std    1.098311e+07  7.861097e+07      0.054530      0.046157    240.154170   \n",
            "min    2.539000e+03  2.438000e+03     40.499790    -74.244420      0.000000   \n",
            "25%    9.471945e+06  7.822033e+06     40.690100    -73.983070     69.000000   \n",
            "50%    1.967728e+07  3.079382e+07     40.723070    -73.955680    106.000000   \n",
            "75%    2.915218e+07  1.074344e+08     40.763115    -73.936275    175.000000   \n",
            "max    3.648724e+07  2.743213e+08     40.913060    -73.712990  10000.000000   \n",
            "\n",
            "       minimum_nights  number_of_reviews  reviews_per_month  \\\n",
            "count    48895.000000       48895.000000       38843.000000   \n",
            "mean         7.029962          23.274466           1.373221   \n",
            "std         20.510550          44.550582           1.680442   \n",
            "min          1.000000           0.000000           0.010000   \n",
            "25%          1.000000           1.000000           0.190000   \n",
            "50%          3.000000           5.000000           0.720000   \n",
            "75%          5.000000          24.000000           2.020000   \n",
            "max       1250.000000         629.000000          58.500000   \n",
            "\n",
            "       calculated_host_listings_count  availability_365  \n",
            "count                    48895.000000      48895.000000  \n",
            "mean                         7.143982        112.781327  \n",
            "std                         32.952519        131.622289  \n",
            "min                          1.000000          0.000000  \n",
            "25%                          1.000000          0.000000  \n",
            "50%                          1.000000         45.000000  \n",
            "75%                          2.000000        227.000000  \n",
            "max                        327.000000        365.000000  \n"
          ]
        }
      ]
    },
    {
      "cell_type": "code",
      "source": [
        "print(df.isnull().sum())"
      ],
      "metadata": {
        "colab": {
          "base_uri": "https://localhost:8080/"
        },
        "id": "alRpKjAbIrgG",
        "outputId": "446bf3a2-cda8-4770-c435-04628e80bbbf"
      },
      "execution_count": 22,
      "outputs": [
        {
          "output_type": "stream",
          "name": "stdout",
          "text": [
            "id                                    0\n",
            "name                                 16\n",
            "host_id                               0\n",
            "host_name                            21\n",
            "neighbourhood_group                   0\n",
            "neighbourhood                         0\n",
            "latitude                              0\n",
            "longitude                             0\n",
            "room_type                             0\n",
            "price                                 0\n",
            "minimum_nights                        0\n",
            "number_of_reviews                     0\n",
            "last_review                       10052\n",
            "reviews_per_month                 10052\n",
            "calculated_host_listings_count        0\n",
            "availability_365                      0\n",
            "dtype: int64\n"
          ]
        }
      ]
    },
    {
      "cell_type": "code",
      "source": [
        "plt.figure()\n",
        "plt.hist(df['price'], bins=50)\n",
        "plt.title('Price distribution')\n",
        "plt.xlabel('Price')\n",
        "plt.ylabel('Frequency')\n",
        "plt.show()"
      ],
      "metadata": {
        "colab": {
          "base_uri": "https://localhost:8080/",
          "height": 472
        },
        "id": "hghNwbu5iXQB",
        "outputId": "0d177f2c-8292-435d-9662-cd4ca25b0395"
      },
      "execution_count": 23,
      "outputs": [
        {
          "output_type": "display_data",
          "data": {
            "text/plain": [
              "<Figure size 640x480 with 1 Axes>"
            ],
            "image/png": "[encoded data removed]"
          },
          "metadata": {}
        }
      ]
    },
    {
      "cell_type": "code",
      "source": [
        "plt.figure()\n",
        "counts = df['room_type'].value_counts()\n",
        "plt.bar(counts.index, counts.values)\n",
        "plt.title('Room type ads distribution')\n",
        "plt.xlabel('Room Type')\n",
        "plt.ylabel('Count')\n",
        "plt.show()"
      ],
      "metadata": {
        "colab": {
          "base_uri": "https://localhost:8080/",
          "height": 472
        },
        "id": "Fc4diKVAibtm",
        "outputId": "2bf9d63c-181b-46f6-c2f0-5d6ed2c6ef2f"
      },
      "execution_count": 24,
      "outputs": [
        {
          "output_type": "display_data",
          "data": {
            "text/plain": [
              "<Figure size 640x480 with 1 Axes>"
            ],
            "image/png": "[encoded data removed]"
          },
          "metadata": {}
        }
      ]
    },
    {
      "cell_type": "code",
      "source": [
        "room_types = df['room_type'].unique()\n",
        "data = [df[df['room_type'] == rt]['price'] for rt in room_types]"
      ],
      "metadata": {
        "id": "6bw-mco7id2C"
      },
      "execution_count": 25,
      "outputs": []
    },
    {
      "cell_type": "code",
      "source": [
        "plt.figure()\n",
        "plt.boxplot(data, labels=room_types)\n",
        "plt.title('Boxplot of prices by room type')\n",
        "plt.xlabel('Room type')\n",
        "plt.ylabel('Price')\n",
        "plt.show()"
      ],
      "metadata": {
        "colab": {
          "base_uri": "https://localhost:8080/",
          "height": 529
        },
        "id": "HuqotW33jCMf",
        "outputId": "1825c3a2-024f-4ec6-8054-54f8c8af71e8"
      },
      "execution_count": 26,
      "outputs": [
        {
          "output_type": "stream",
          "name": "stderr",
          "text": [
            "<ipython-input-26-ef14d84ff126>:2: MatplotlibDeprecationWarning: The 'labels' parameter of boxplot() has been renamed 'tick_labels' since Matplotlib 3.9; support for the old name will be dropped in 3.11.\n",
            "  plt.boxplot(data, labels=room_types)\n"
          ]
        },
        {
          "output_type": "display_data",
          "data": {
            "text/plain": [
              "<Figure size 640x480 with 1 Axes>"
            ],
            "image/png": "[encoded data removed]"
          },
          "metadata": {}
        }
      ]
    },
    {
      "cell_type": "code",
      "source": [
        "numeric_cols = [\n",
        "    'price',\n",
        "    'latitude',\n",
        "    'longitude',\n",
        "    'minimum_nights',\n",
        "    'number_of_reviews',\n",
        "    'reviews_per_month',\n",
        "    'calculated_host_listings_count',\n",
        "    'availability_365'\n",
        "]"
      ],
      "metadata": {
        "id": "dqhJ0Yk4jDzb"
      },
      "execution_count": 27,
      "outputs": []
    },
    {
      "cell_type": "code",
      "source": [
        "corr = df[numeric_cols].corr()"
      ],
      "metadata": {
        "id": "clmYQnXyljk9"
      },
      "execution_count": 28,
      "outputs": []
    },
    {
      "cell_type": "code",
      "source": [
        "plt.figure()\n",
        "plt.imshow(corr)\n",
        "plt.colorbar()\n",
        "plt.xticks(range(len(numeric_cols)), numeric_cols, rotation=45, ha='right')\n",
        "plt.yticks(range(len(numeric_cols)), numeric_cols)\n",
        "plt.title('Correlation matrix')\n",
        "plt.tight_layout()\n",
        "plt.show()"
      ],
      "metadata": {
        "colab": {
          "base_uri": "https://localhost:8080/",
          "height": 487
        },
        "id": "VClIn1xNllkQ",
        "outputId": "2f31f6fd-f731-4248-b722-1d7edb0a429c"
      },
      "execution_count": 29,
      "outputs": [
        {
          "output_type": "display_data",
          "data": {
            "text/plain": [
              "<Figure size 640x480 with 2 Axes>"
            ],
            "image/png": "[encoded data removed]"
          },
          "metadata": {}
        }
      ]
    },
    {
      "cell_type": "markdown",
      "source": [
        "# Data preparation"
      ],
      "metadata": {
        "id": "8Ydy5ufbTKqY"
      }
    },
    {
      "cell_type": "code",
      "source": [
        "base = ['latitude', 'longitude', 'minimum_nights', 'number_of_reviews', 'reviews_per_month', 'calculated_host_listings_count', 'availability_365']"
      ],
      "metadata": {
        "id": "zJlyGaRbqN-d"
      },
      "execution_count": 30,
      "outputs": []
    },
    {
      "cell_type": "code",
      "source": [
        "df[base].info()"
      ],
      "metadata": {
        "colab": {
          "base_uri": "https://localhost:8080/"
        },
        "id": "SUEKw4tjT1Na",
        "outputId": "ea346701-08ef-439d-97d2-db06927a2787"
      },
      "execution_count": 31,
      "outputs": [
        {
          "output_type": "stream",
          "name": "stdout",
          "text": [
            "<class 'pandas.core.frame.DataFrame'>\n",
            "RangeIndex: 48895 entries, 0 to 48894\n",
            "Data columns (total 7 columns):\n",
            " #   Column                          Non-Null Count  Dtype  \n",
            "---  ------                          --------------  -----  \n",
            " 0   latitude                        48895 non-null  float64\n",
            " 1   longitude                       48895 non-null  float64\n",
            " 2   minimum_nights                  48895 non-null  int64  \n",
            " 3   number_of_reviews               48895 non-null  int64  \n",
            " 4   reviews_per_month               38843 non-null  float64\n",
            " 5   calculated_host_listings_count  48895 non-null  int64  \n",
            " 6   availability_365                48895 non-null  int64  \n",
            "dtypes: float64(3), int64(4)\n",
            "memory usage: 2.6 MB\n"
          ]
        }
      ]
    },
    {
      "cell_type": "code",
      "source": [
        "df[base].isna().any()"
      ],
      "metadata": {
        "colab": {
          "base_uri": "https://localhost:8080/",
          "height": 304
        },
        "id": "FLpeDDvuT4_1",
        "outputId": "202741e3-9a73-44c7-9495-69898cc2c2b9"
      },
      "execution_count": 32,
      "outputs": [
        {
          "output_type": "execute_result",
          "data": {
            "text/plain": [
              "latitude                          False\n",
              "longitude                         False\n",
              "minimum_nights                    False\n",
              "number_of_reviews                 False\n",
              "reviews_per_month                  True\n",
              "calculated_host_listings_count    False\n",
              "availability_365                  False\n",
              "dtype: bool"
            ],
            "text/html": [
              "<div>\n",
              "<style scoped>\n",
              "    .dataframe tbody tr th:only-of-type {\n",
              "        vertical-align: middle;\n",
              "    }\n",
              "\n",
              "    .dataframe tbody tr th {\n",
              "        vertical-align: top;\n",
              "    }\n",
              "\n",
              "    .dataframe thead th {\n",
              "        text-align: right;\n",
              "    }\n",
              "</style>\n",
              "<table border=\"1\" class=\"dataframe\">\n",
              "  <thead>\n",
              "    <tr style=\"text-align: right;\">\n",
              "      <th></th>\n",
              "      <th>0</th>\n",
              "    </tr>\n",
              "  </thead>\n",
              "  <tbody>\n",
              "    <tr>\n",
              "      <th>latitude</th>\n",
              "      <td>False</td>\n",
              "    </tr>\n",
              "    <tr>\n",
              "      <th>longitude</th>\n",
              "      <td>False</td>\n",
              "    </tr>\n",
              "    <tr>\n",
              "      <th>minimum_nights</th>\n",
              "      <td>False</td>\n",
              "    </tr>\n",
              "    <tr>\n",
              "      <th>number_of_reviews</th>\n",
              "      <td>False</td>\n",
              "    </tr>\n",
              "    <tr>\n",
              "      <th>reviews_per_month</th>\n",
              "      <td>True</td>\n",
              "    </tr>\n",
              "    <tr>\n",
              "      <th>calculated_host_listings_count</th>\n",
              "      <td>False</td>\n",
              "    </tr>\n",
              "    <tr>\n",
              "      <th>availability_365</th>\n",
              "      <td>False</td>\n",
              "    </tr>\n",
              "  </tbody>\n",
              "</table>\n",
              "</div><br><label><b>dtype:</b> bool</label>"
            ]
          },
          "metadata": {},
          "execution_count": 32
        }
      ]
    },
    {
      "cell_type": "code",
      "source": [
        "df[base].isnull().sum()"
      ],
      "metadata": {
        "colab": {
          "base_uri": "https://localhost:8080/",
          "height": 304
        },
        "id": "XBQZ1K7yT69S",
        "outputId": "d7a41a86-48f5-41e0-a4c9-8768e3aad22e"
      },
      "execution_count": 33,
      "outputs": [
        {
          "output_type": "execute_result",
          "data": {
            "text/plain": [
              "latitude                              0\n",
              "longitude                             0\n",
              "minimum_nights                        0\n",
              "number_of_reviews                     0\n",
              "reviews_per_month                 10052\n",
              "calculated_host_listings_count        0\n",
              "availability_365                      0\n",
              "dtype: int64"
            ],
            "text/html": [
              "<div>\n",
              "<style scoped>\n",
              "    .dataframe tbody tr th:only-of-type {\n",
              "        vertical-align: middle;\n",
              "    }\n",
              "\n",
              "    .dataframe tbody tr th {\n",
              "        vertical-align: top;\n",
              "    }\n",
              "\n",
              "    .dataframe thead th {\n",
              "        text-align: right;\n",
              "    }\n",
              "</style>\n",
              "<table border=\"1\" class=\"dataframe\">\n",
              "  <thead>\n",
              "    <tr style=\"text-align: right;\">\n",
              "      <th></th>\n",
              "      <th>0</th>\n",
              "    </tr>\n",
              "  </thead>\n",
              "  <tbody>\n",
              "    <tr>\n",
              "      <th>latitude</th>\n",
              "      <td>0</td>\n",
              "    </tr>\n",
              "    <tr>\n",
              "      <th>longitude</th>\n",
              "      <td>0</td>\n",
              "    </tr>\n",
              "    <tr>\n",
              "      <th>minimum_nights</th>\n",
              "      <td>0</td>\n",
              "    </tr>\n",
              "    <tr>\n",
              "      <th>number_of_reviews</th>\n",
              "      <td>0</td>\n",
              "    </tr>\n",
              "    <tr>\n",
              "      <th>reviews_per_month</th>\n",
              "      <td>10052</td>\n",
              "    </tr>\n",
              "    <tr>\n",
              "      <th>calculated_host_listings_count</th>\n",
              "      <td>0</td>\n",
              "    </tr>\n",
              "    <tr>\n",
              "      <th>availability_365</th>\n",
              "      <td>0</td>\n",
              "    </tr>\n",
              "  </tbody>\n",
              "</table>\n",
              "</div><br><label><b>dtype:</b> int64</label>"
            ]
          },
          "metadata": {},
          "execution_count": 33
        }
      ]
    },
    {
      "cell_type": "code",
      "source": [
        "df['minimum_nights'].describe()"
      ],
      "metadata": {
        "colab": {
          "base_uri": "https://localhost:8080/",
          "height": 335
        },
        "id": "N24cvdJUT9eZ",
        "outputId": "71bc85a4-fe0d-4897-8806-121c1668b03a"
      },
      "execution_count": 34,
      "outputs": [
        {
          "output_type": "execute_result",
          "data": {
            "text/plain": [
              "count    48895.000000\n",
              "mean         7.029962\n",
              "std         20.510550\n",
              "min          1.000000\n",
              "25%          1.000000\n",
              "50%          3.000000\n",
              "75%          5.000000\n",
              "max       1250.000000\n",
              "Name: minimum_nights, dtype: float64"
            ],
            "text/html": [
              "<div>\n",
              "<style scoped>\n",
              "    .dataframe tbody tr th:only-of-type {\n",
              "        vertical-align: middle;\n",
              "    }\n",
              "\n",
              "    .dataframe tbody tr th {\n",
              "        vertical-align: top;\n",
              "    }\n",
              "\n",
              "    .dataframe thead th {\n",
              "        text-align: right;\n",
              "    }\n",
              "</style>\n",
              "<table border=\"1\" class=\"dataframe\">\n",
              "  <thead>\n",
              "    <tr style=\"text-align: right;\">\n",
              "      <th></th>\n",
              "      <th>minimum_nights</th>\n",
              "    </tr>\n",
              "  </thead>\n",
              "  <tbody>\n",
              "    <tr>\n",
              "      <th>count</th>\n",
              "      <td>48895.000000</td>\n",
              "    </tr>\n",
              "    <tr>\n",
              "      <th>mean</th>\n",
              "      <td>7.029962</td>\n",
              "    </tr>\n",
              "    <tr>\n",
              "      <th>std</th>\n",
              "      <td>20.510550</td>\n",
              "    </tr>\n",
              "    <tr>\n",
              "      <th>min</th>\n",
              "      <td>1.000000</td>\n",
              "    </tr>\n",
              "    <tr>\n",
              "      <th>25%</th>\n",
              "      <td>1.000000</td>\n",
              "    </tr>\n",
              "    <tr>\n",
              "      <th>50%</th>\n",
              "      <td>3.000000</td>\n",
              "    </tr>\n",
              "    <tr>\n",
              "      <th>75%</th>\n",
              "      <td>5.000000</td>\n",
              "    </tr>\n",
              "    <tr>\n",
              "      <th>max</th>\n",
              "      <td>1250.000000</td>\n",
              "    </tr>\n",
              "  </tbody>\n",
              "</table>\n",
              "</div><br><label><b>dtype:</b> float64</label>"
            ]
          },
          "metadata": {},
          "execution_count": 34
        }
      ]
    },
    {
      "cell_type": "code",
      "source": [
        "df['minimum_nights'].median()"
      ],
      "metadata": {
        "colab": {
          "base_uri": "https://localhost:8080/"
        },
        "id": "hL60LbMDUCYS",
        "outputId": "2f838df1-dfbf-4975-d4d3-405cc51666b5"
      },
      "execution_count": 35,
      "outputs": [
        {
          "output_type": "execute_result",
          "data": {
            "text/plain": [
              "3.0"
            ]
          },
          "metadata": {},
          "execution_count": 35
        }
      ]
    },
    {
      "cell_type": "code",
      "source": [
        "np.random.seed(42)\n",
        "\n",
        "n = len(df)\n",
        "\n",
        "n_val = int(0.2 * n)\n",
        "n_test = int(0.2 * n)\n",
        "n_train = n - n_val - n_test\n",
        "\n",
        "# creates list of index and shuffles them\n",
        "idx = np.arange(n)\n",
        "np.random.shuffle(idx)\n",
        "\n",
        "# shuffled dataframe\n",
        "df_shuffled = df.iloc[idx]\n",
        "\n",
        "# splits\n",
        "df_train = df_shuffled.iloc[:n_train].copy()\n",
        "df_val = df_shuffled.iloc[n_train:n_train+n_val].copy()\n",
        "df_test = df_shuffled[n_train+n_val:].copy()\n",
        "\n",
        "# targets\n",
        "y_train_orig = df_train.price.values\n",
        "y_val_orig = df_val.price.values\n",
        "y_test_orig = df_test.price.values\n",
        "\n",
        "y_train = np.log1p(df_train.price.values)\n",
        "y_val = np.log1p(df_val.price.values)\n",
        "y_test = np.log1p(df_test.price.values)\n",
        "\n",
        "# remove targets from datasets\n",
        "del df_train['price']\n",
        "del df_val['price']\n",
        "del df_test['price']"
      ],
      "metadata": {
        "id": "MOhO-6gvUELi"
      },
      "execution_count": 36,
      "outputs": []
    },
    {
      "cell_type": "code",
      "source": [
        "feat_mean = df_train.reviews_per_month.mean()\n",
        "print(feat_mean)"
      ],
      "metadata": {
        "colab": {
          "base_uri": "https://localhost:8080/"
        },
        "id": "vZo0pn3TUTwX",
        "outputId": "604acebc-1b77-4b76-c5a3-e78d8cc45f51"
      },
      "execution_count": 37,
      "outputs": [
        {
          "output_type": "stream",
          "name": "stdout",
          "text": [
            "1.3685492094776983\n"
          ]
        }
      ]
    },
    {
      "cell_type": "code",
      "source": [
        "# option 1\n",
        "#df_op1 = df_train.fillna(0)\n",
        "op1 = 0\n",
        "\n",
        "# option 2\n",
        "#df_op2 = df_train.fillna(feat_mean)\n",
        "op2 = feat_mean"
      ],
      "metadata": {
        "id": "x1tfhSeeUZmr"
      },
      "execution_count": 38,
      "outputs": []
    },
    {
      "cell_type": "code",
      "source": [
        "def prepare_X(df, fill):\n",
        "    df = df.copy()\n",
        "    features = base.copy()\n",
        "\n",
        "    df_num = df[features]\n",
        "\n",
        "    df_num = df_num.fillna(fill)\n",
        "    X = df_num.values\n",
        "\n",
        "    return X\n",
        "\n",
        "def train_lr_no_reg(X, y):\n",
        "    ones = np.ones(X.shape[0])\n",
        "    X = np.column_stack([ones, X])\n",
        "\n",
        "    XTX = X.T @ X\n",
        "    XTX_inv = np.linalg.inv(XTX)\n",
        "    w = XTX_inv @ X.T @ y\n",
        "\n",
        "    return w[0], w[1:]\n",
        "\n",
        "def rmse(y, y_pred):\n",
        "    #print(f'y type: {y.dtype}')\n",
        "    #print(f'y_pred type: {y_pred.dtype}')\n",
        "    error = y_pred - y\n",
        "    #print(error)\n",
        "    mse = (error ** 2).mean()\n",
        "    #print(mse)\n",
        "    return np.sqrt(mse)\n",
        "\n",
        "def predict(w0, w, X):\n",
        "    return w0 + X @ w"
      ],
      "metadata": {
        "id": "RnzZrSFKUjD4"
      },
      "execution_count": 39,
      "outputs": []
    },
    {
      "cell_type": "code",
      "source": [
        "X_op1 = prepare_X(df_train, op1)\n",
        "w_0_op1, w_op1 = train_lr_no_reg(X_op1, y_train)\n",
        "\n",
        "X_op2 = prepare_X(df_train, op2)\n",
        "w_0_op2, w_op2 = train_lr_no_reg(X_op2, y_train)"
      ],
      "metadata": {
        "id": "BVv_zNtCU9ER"
      },
      "execution_count": 40,
      "outputs": []
    },
    {
      "cell_type": "code",
      "source": [
        "#y_pred_op1 = w_0_op1 + X_op1 @ w_op1\n",
        "#y_pred_op2 = w_0_op2 + X_op2 @ w_op2\n",
        "y_pred_op1 = predict(w_0_op1, w_op1, X_op1)\n",
        "y_pred_op2 = predict(w_0_op2, w_op2, X_op2)"
      ],
      "metadata": {
        "id": "zzGsCvaSVAF2"
      },
      "execution_count": 41,
      "outputs": []
    },
    {
      "cell_type": "code",
      "source": [
        "rmse1 = rmse(y_train, y_pred_op1)\n",
        "rmse2 = rmse(y_train, y_pred_op2)\n",
        "\n",
        "print(f'RMSE option 1: {round(rmse1,2)}')\n",
        "print(f'RMSE option 2: {round(rmse2,2)}')"
      ],
      "metadata": {
        "colab": {
          "base_uri": "https://localhost:8080/"
        },
        "id": "nDltGTQ9VB7c",
        "outputId": "11d48200-29db-4934-f5ec-7e51f99e3571"
      },
      "execution_count": 42,
      "outputs": [
        {
          "output_type": "stream",
          "name": "stdout",
          "text": [
            "RMSE option 1: 0.64\n",
            "RMSE option 2: 0.64\n"
          ]
        }
      ]
    },
    {
      "cell_type": "code",
      "source": [
        "# Eval dataset\n",
        "X_val1 = prepare_X(df_val, op1)\n",
        "# we don't recalculate the mean for the feature\n",
        "X_val2 = prepare_X(df_val, op2)\n",
        "\n",
        "y_val_op1 = predict(w_0_op1, w_op1, X_val1)\n",
        "y_val_op2 = predict(w_0_op2, w_op2, X_val2)\n",
        "\n",
        "rmseval1 = rmse(y_val, y_val_op1)\n",
        "rmseval2 = rmse(y_val, y_val_op2)\n",
        "\n",
        "print(f'RMSE validation option 1: {round(rmseval1, 2)}')\n",
        "print(f'RMSE validation option 2: {round(rmseval2, 2)}')"
      ],
      "metadata": {
        "colab": {
          "base_uri": "https://localhost:8080/"
        },
        "id": "KToT5ZAzVDxJ",
        "outputId": "b19d2538-2731-4409-db66-48f42c4126c9"
      },
      "execution_count": 43,
      "outputs": [
        {
          "output_type": "stream",
          "name": "stdout",
          "text": [
            "RMSE validation option 1: 0.64\n",
            "RMSE validation option 2: 0.64\n"
          ]
        }
      ]
    },
    {
      "cell_type": "code",
      "source": [
        "# Defininig the training function with regularization\n",
        "def train_lr_reg(X, y, r=0.0):\n",
        "    ones = np.ones(X.shape[0])\n",
        "    X = np.column_stack([ones, X])\n",
        "\n",
        "    XTX = X.T @ X\n",
        "    reg = r * np.eye(XTX.shape[0])\n",
        "    XTX += reg\n",
        "\n",
        "    XTX_inv = np.linalg.inv(XTX)\n",
        "    w = XTX_inv @ X.T @ y\n",
        "\n",
        "    return w[0], w[1:]"
      ],
      "metadata": {
        "id": "JufeCZ9JVGgF"
      },
      "execution_count": 44,
      "outputs": []
    },
    {
      "cell_type": "code",
      "source": [
        "regs = np.array([0, 0.000001, 0.0001, 0.001, 0.01, 0.1, 1, 5, 10])"
      ],
      "metadata": {
        "id": "5cQJaj8nVM4X"
      },
      "execution_count": 45,
      "outputs": []
    },
    {
      "cell_type": "code",
      "source": [
        "# we already have our prepared X with 0's; it's option 1\n",
        "# sanity check: let's compute it again\n",
        "X_train = prepare_X(df_train, 0)\n",
        "X_val = prepare_X(df_val, 0)\n",
        "#res = []\n",
        "for r in regs:\n",
        "    w0, w = train_lr_reg(X_train, y_train, r)\n",
        "    y_pred = predict(w0, w, X_train)\n",
        "    y_val_pred = predict(w0, w, X_val)\n",
        "    rmse_train = rmse(y_train, y_pred)\n",
        "    rmse_val = rmse(y_val, y_val_pred)\n",
        "    print(f'r = {r}, RMSE train = {round(rmse_train,2)}, RMSE val = {round(rmse_val, 2)}')"
      ],
      "metadata": {
        "colab": {
          "base_uri": "https://localhost:8080/"
        },
        "id": "-wI8NU4UVOJl",
        "outputId": "0f9e987c-7fd2-46a0-ebde-466ca0509110"
      },
      "execution_count": 46,
      "outputs": [
        {
          "output_type": "stream",
          "name": "stdout",
          "text": [
            "r = 0.0, RMSE train = 0.64, RMSE val = 0.64\n",
            "r = 1e-06, RMSE train = 0.64, RMSE val = 0.64\n",
            "r = 0.0001, RMSE train = 0.64, RMSE val = 0.64\n",
            "r = 0.001, RMSE train = 0.64, RMSE val = 0.64\n",
            "r = 0.01, RMSE train = 0.65, RMSE val = 0.66\n",
            "r = 0.1, RMSE train = 0.68, RMSE val = 0.68\n",
            "r = 1.0, RMSE train = 0.68, RMSE val = 0.68\n",
            "r = 5.0, RMSE train = 0.68, RMSE val = 0.68\n",
            "r = 10.0, RMSE train = 0.68, RMSE val = 0.68\n"
          ]
        }
      ]
    },
    {
      "cell_type": "code",
      "source": [
        "seeds = [0, 1, 2, 3, 4, 5, 6, 7, 8, 9]"
      ],
      "metadata": {
        "id": "vAXFRb_fVSnd"
      },
      "execution_count": 47,
      "outputs": []
    },
    {
      "cell_type": "code",
      "source": [
        "scores = []\n",
        "for seed in seeds:\n",
        "    np.random.seed(seed)\n",
        "\n",
        "    # creates list of index and shuffles them\n",
        "    idx = np.arange(n)\n",
        "    np.random.shuffle(idx)\n",
        "\n",
        "    # shuffled dataframe\n",
        "    df_shuffled = df.iloc[idx]\n",
        "\n",
        "    # splits\n",
        "    df_train = df_shuffled.iloc[:n_train].copy()\n",
        "    df_val = df_shuffled.iloc[n_train:n_train+n_val].copy()\n",
        "    df_test = df_shuffled[n_train+n_val:].copy()\n",
        "\n",
        "    # targets\n",
        "    y_train_orig = df_train.price.values\n",
        "    y_val_orig = df_val.price.values\n",
        "    y_test_orig = df_test.price.values\n",
        "\n",
        "    y_train = np.log1p(df_train.price.values)\n",
        "    y_val = np.log1p(df_val.price.values)\n",
        "    y_test = np.log1p(df_test.price.values)\n",
        "\n",
        "    # remove targets from datasets\n",
        "    del df_train['price']\n",
        "    del df_val['price']\n",
        "    del df_test['price']\n",
        "\n",
        "    # getting ready to train\n",
        "    X_train = prepare_X(df_train, 0)\n",
        "    w0, w = train_lr_no_reg(X_train, y_train)\n",
        "\n",
        "    X_val = prepare_X(df_val, 0)\n",
        "    y_pred = predict(w0, w, X_val)\n",
        "\n",
        "    error = rmse(y_val, y_pred)\n",
        "\n",
        "    scores.append(error)\n",
        "\n",
        "scores = np.array(scores)\n",
        "std = np.std(scores)\n",
        "print(f'RMSE standard deviation: {round(std, 3)}')"
      ],
      "metadata": {
        "colab": {
          "base_uri": "https://localhost:8080/"
        },
        "id": "B-bOcNkbVXYf",
        "outputId": "ba7915fe-21ed-442d-8345-0492260b52da"
      },
      "execution_count": 48,
      "outputs": [
        {
          "output_type": "stream",
          "name": "stdout",
          "text": [
            "RMSE standard deviation: 0.008\n"
          ]
        }
      ]
    },
    {
      "cell_type": "code",
      "source": [
        "np.random.seed(9)\n",
        "\n",
        "# creates list of index and shuffles them\n",
        "idx = np.arange(n)\n",
        "np.random.shuffle(idx)\n",
        "\n",
        "#shuffled dataframe\n",
        "df_shuffled = df.iloc[idx]\n",
        "\n",
        "# splits\n",
        "df_train = df_shuffled.iloc[:n_train].copy()\n",
        "df_val = df_shuffled.iloc[n_train:n_train+n_val].copy()\n",
        "df_test = df_shuffled[n_train+n_val:].copy()\n",
        "\n",
        "# targets\n",
        "y_train_orig = df_train.price.values\n",
        "y_val_orig = df_val.price.values\n",
        "y_test_orig = df_test.price.values\n",
        "\n",
        "y_train = np.log1p(df_train.price.values)\n",
        "y_val = np.log1p(df_val.price.values)\n",
        "y_test = np.log1p(df_test.price.values)\n",
        "\n",
        "# remove targets from datasets\n",
        "del df_train['price']\n",
        "del df_val['price']\n",
        "del df_test['price']\n",
        "\n",
        "# combine datasets\n",
        "df_full_train = pd.concat([df_train, df_val])\n",
        "df_full_train = df_full_train.reset_index(drop=True)\n",
        "y_full_train = np.concatenate([y_train, y_val])\n",
        "\n",
        "# getting ready to train\n",
        "X_full_train = prepare_X(df_full_train, 0)\n",
        "w0, w = train_lr_reg(X_full_train, y_full_train, 0.001)\n",
        "\n",
        "# predict and error\n",
        "X_test = prepare_X(df_test, 0)\n",
        "y_pred = predict(w0, w, X_test)\n",
        "\n",
        "error = rmse(y_test, y_pred)\n",
        "\n",
        "print(f'RMSE on full train dataset: {round(error, 2)}')"
      ],
      "metadata": {
        "colab": {
          "base_uri": "https://localhost:8080/"
        },
        "id": "dncCJn6YVZZY",
        "outputId": "7f0ac31d-2160-4d6f-d542-777ac23385ec"
      },
      "execution_count": 49,
      "outputs": [
        {
          "output_type": "stream",
          "name": "stdout",
          "text": [
            "RMSE on full train dataset: 0.65\n"
          ]
        }
      ]
    },
    {
      "cell_type": "code",
      "source": [],
      "metadata": {
        "id": "1nZfA4QKVd4g"
      },
      "execution_count": null,
      "outputs": []
    }
  ]
}